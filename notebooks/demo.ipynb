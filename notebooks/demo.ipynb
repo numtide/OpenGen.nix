{
 "cells": [
  {
   "cell_type": "code",
   "execution_count": 4,
   "id": "fc70511d-4bf5-47cb-9935-c17b4da6cf11",
   "metadata": {
    "scrolled": true
   },
   "outputs": [
    {
     "name": "stderr",
     "output_type": "stream",
     "text": [
      "/tmp/nix-shell.EBRV2Z/ipykernel_252673/268569837.py:7: DeprecationWarning: Importing display from IPython.core.display is deprecated since IPython 7.14, please import from IPython display\n",
      "  from IPython.core.display import Image, display\n",
      "[E rasterize_gl.cpp:121] OpenGL version reported as 4.6\n"
     ]
    },
    {
     "name": "stdout",
     "output_type": "stream",
     "text": [
      "Increasing frame buffer size to (width, height, depth) = (128, 128, 1024)\n",
      "Centering mesh with translation [0.0000000e+00 2.9802322e-08 0.0000000e+00]\n",
      "Number of frames:  60\n",
      "observed_images.shape (60, 100, 100, 4)\n",
      "Time elapsed: 0.3095111846923828\n",
      "FPS: 193.85406074947772\n"
     ]
    }
   ],
   "source": [
    "import os\n",
    "import time\n",
    "\n",
    "import jax\n",
    "import jax.numpy as jnp\n",
    "from IPython import embed\n",
    "from IPython.core.display import Image, display\n",
    "from scipy.spatial.transform import Rotation as R\n",
    "\n",
    "import bayes3d as b\n",
    "\n",
    "# Can be helpful for debugging:\n",
    "# jax.config.update('jax_enable_checks', True)\n",
    "\n",
    "assets_dir = os.getenv(\"B3D_ASSET_PATH\")\n",
    "\n",
    "intrinsics = b.Intrinsics(\n",
    "    height=100, width=100, fx=50.0, fy=50.0, cx=50.0, cy=50.0, near=0.001, far=6.0\n",
    ")\n",
    "\n",
    "b.setup_renderer(intrinsics)\n",
    "b.RENDERER.add_mesh_from_file(\n",
    "    os.path.join(assets_dir, \"sample_objs/bunny.obj\")\n",
    ")\n",
    "\n",
    "num_frames = 60\n",
    "\n",
    "poses = [b.t3d.transform_from_pos(jnp.array([-3.0, 0.0, 3.5]))]\n",
    "delta_pose = b.t3d.transform_from_rot_and_pos(\n",
    "    R.from_euler(\"zyx\", [-1.0, 0.1, 2.0], degrees=True).as_matrix(),\n",
    "    jnp.array([0.09, 0.05, 0.02]),\n",
    ")\n",
    "for t in range(num_frames - 1):\n",
    "    poses.append(poses[-1].dot(delta_pose))\n",
    "poses = jnp.stack(poses)\n",
    "print(\"Number of frames: \", poses.shape[0])\n",
    "\n",
    "observed_images = b.RENDERER.render_many(poses[:, None, ...], jnp.array([0]))\n",
    "print(\"observed_images.shape\", observed_images.shape)\n",
    "\n",
    "translation_deltas = b.utils.make_translation_grid_enumeration(\n",
    "    -0.2, -0.2, -0.2, 0.2, 0.2, 0.2, 5, 5, 5\n",
    ")\n",
    "rotation_deltas = jax.vmap(\n",
    "    lambda key: b.distributions.gaussian_vmf_zero_mean(key, 0.00001, 800.0)\n",
    ")(jax.random.split(jax.random.PRNGKey(30), 100))\n",
    "\n",
    "likelihood = jax.vmap(\n",
    "    b.threedp3_likelihood_old, in_axes=(None, 0, None, None, None, None, None)\n",
    ")\n",
    "\n",
    "\n",
    "def update_pose_estimate(pose_estimate, gt_image):\n",
    "    proposals = jnp.einsum(\"ij,ajk->aik\", pose_estimate, translation_deltas)\n",
    "    rendered_images = jax.vmap(b.RENDERER.render, in_axes=(0, None))(\n",
    "        proposals[:, None, ...], jnp.array([0])\n",
    "    )\n",
    "    weights_new = likelihood(gt_image, rendered_images, 0.05, 0.1, 10**3, 0.1, 3)\n",
    "    pose_estimate = proposals[jnp.argmax(weights_new)]\n",
    "\n",
    "    proposals = jnp.einsum(\"ij,ajk->aik\", pose_estimate, rotation_deltas)\n",
    "    rendered_images = jax.vmap(b.RENDERER.render, in_axes=(0, None))(\n",
    "        proposals[:, None, ...], jnp.array([0])\n",
    "    )\n",
    "    weights_new = likelihood(gt_image, rendered_images, 0.05, 0.1, 10**3, 0.1, 3)\n",
    "    pose_estimate = proposals[jnp.argmax(weights_new)]\n",
    "    return pose_estimate, pose_estimate\n",
    "\n",
    "\n",
    "inference_program = jax.jit(lambda p, x: jax.lax.scan(update_pose_estimate, p, x)[1])\n",
    "inferred_poses = inference_program(poses[0], observed_images)\n",
    "\n",
    "start = time.time()\n",
    "pose_estimates_over_time = inference_program(poses[0], observed_images)\n",
    "end = time.time()\n",
    "print(\"Time elapsed:\", end - start)\n",
    "print(\"FPS:\", poses.shape[0] / (end - start))\n",
    "\n",
    "rerendered_images = b.RENDERER.render_many(\n",
    "    pose_estimates_over_time[:, None, ...], jnp.array([0])\n",
    ")\n",
    "\n",
    "viz_images = [\n",
    "    b.viz.multi_panel(\n",
    "        [\n",
    "            b.viz.scale_image(b.viz.get_depth_image(d[:, :, 2]), 3),\n",
    "            b.viz.scale_image(b.viz.get_depth_image(r[:, :, 2]), 3),\n",
    "        ],\n",
    "        labels=[\"Observed\", \"Rerendered\"],\n",
    "        label_fontsize=20,\n",
    "    )\n",
    "    for (r, d) in zip(rerendered_images, observed_images)\n",
    "]\n",
    "b.make_gif_from_pil_images(viz_images, \"assets/demo.gif\")\n",
    "\n"
   ]
  },
  {
   "cell_type": "code",
   "execution_count": 6,
   "id": "c39a88e9-b18d-4d91-b001-f2a3abdd6804",
   "metadata": {},
   "outputs": [
    {
     "ename": "TypeError",
     "evalue": "expected str, bytes or os.PathLike object, not list",
     "output_type": "error",
     "traceback": [
      "\u001b[0;31m---------------------------------------------------------------------------\u001b[0m",
      "\u001b[0;31mTypeError\u001b[0m                                 Traceback (most recent call last)",
      "Cell \u001b[0;32mIn[6], line 1\u001b[0m\n\u001b[0;32m----> 1\u001b[0m display(\u001b[43mImage\u001b[49m\u001b[43m(\u001b[49m\u001b[43murl\u001b[49m\u001b[38;5;241;43m=\u001b[39;49m\u001b[43mviz_images\u001b[49m\u001b[43m)\u001b[49m)\n",
      "File \u001b[0;32m/nix/store/6514avl2wlhjgdhvvw80f3qm8ps8kv5b-python3-3.11.9-env/lib/python3.11/site-packages/IPython/core/display.py:923\u001b[0m, in \u001b[0;36mImage.__init__\u001b[0;34m(self, data, url, filename, format, embed, width, height, retina, unconfined, metadata, alt)\u001b[0m\n\u001b[1;32m    921\u001b[0m     ext \u001b[38;5;241m=\u001b[39m \u001b[38;5;28mself\u001b[39m\u001b[38;5;241m.\u001b[39m_find_ext(filename)\n\u001b[1;32m    922\u001b[0m \u001b[38;5;28;01melif\u001b[39;00m url \u001b[38;5;129;01mis\u001b[39;00m \u001b[38;5;129;01mnot\u001b[39;00m \u001b[38;5;28;01mNone\u001b[39;00m:\n\u001b[0;32m--> 923\u001b[0m     ext \u001b[38;5;241m=\u001b[39m \u001b[38;5;28;43mself\u001b[39;49m\u001b[38;5;241;43m.\u001b[39;49m\u001b[43m_find_ext\u001b[49m\u001b[43m(\u001b[49m\u001b[43murl\u001b[49m\u001b[43m)\u001b[49m\n\u001b[1;32m    924\u001b[0m \u001b[38;5;28;01melif\u001b[39;00m data \u001b[38;5;129;01mis\u001b[39;00m \u001b[38;5;28;01mNone\u001b[39;00m:\n\u001b[1;32m    925\u001b[0m     \u001b[38;5;28;01mraise\u001b[39;00m \u001b[38;5;167;01mValueError\u001b[39;00m(\u001b[38;5;124m\"\u001b[39m\u001b[38;5;124mNo image data found. Expecting filename, url, or data.\u001b[39m\u001b[38;5;124m\"\u001b[39m)\n",
      "File \u001b[0;32m/nix/store/6514avl2wlhjgdhvvw80f3qm8ps8kv5b-python3-3.11.9-env/lib/python3.11/site-packages/IPython/core/display.py:1074\u001b[0m, in \u001b[0;36mImage._find_ext\u001b[0;34m(self, s)\u001b[0m\n\u001b[1;32m   1073\u001b[0m \u001b[38;5;28;01mdef\u001b[39;00m \u001b[38;5;21m_find_ext\u001b[39m(\u001b[38;5;28mself\u001b[39m, s):\n\u001b[0;32m-> 1074\u001b[0m     base, ext \u001b[38;5;241m=\u001b[39m \u001b[43msplitext\u001b[49m\u001b[43m(\u001b[49m\u001b[43ms\u001b[49m\u001b[43m)\u001b[49m\n\u001b[1;32m   1076\u001b[0m     \u001b[38;5;28;01mif\u001b[39;00m \u001b[38;5;129;01mnot\u001b[39;00m ext:\n\u001b[1;32m   1077\u001b[0m         \u001b[38;5;28;01mreturn\u001b[39;00m base\n",
      "File \u001b[0;32m<frozen posixpath>:118\u001b[0m, in \u001b[0;36msplitext\u001b[0;34m(p)\u001b[0m\n",
      "\u001b[0;31mTypeError\u001b[0m: expected str, bytes or os.PathLike object, not list"
     ]
    }
   ],
   "source": [
    "display(Image(url=viz_images))"
   ]
  },
  {
   "cell_type": "code",
   "execution_count": null,
   "id": "a450ad59-1f75-4e1d-b150-fa62e47ba345",
   "metadata": {},
   "outputs": [],
   "source": []
  }
 ],
 "metadata": {
  "kernelspec": {
   "display_name": "Python 3 (ipykernel)",
   "language": "python",
   "name": "python3"
  },
  "language_info": {
   "codemirror_mode": {
    "name": "ipython",
    "version": 3
   },
   "file_extension": ".py",
   "mimetype": "text/x-python",
   "name": "python",
   "nbconvert_exporter": "python",
   "pygments_lexer": "ipython3",
   "version": "3.11.9"
  }
 },
 "nbformat": 4,
 "nbformat_minor": 5
}
