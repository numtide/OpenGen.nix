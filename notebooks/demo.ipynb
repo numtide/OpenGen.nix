{
 "cells": [
  {
   "cell_type": "code",
   "execution_count": 1,
   "id": "fc70511d-4bf5-47cb-9935-c17b4da6cf11",
   "metadata": {
    "scrolled": true
   },
   "outputs": [
    {
     "name": "stderr",
     "output_type": "stream",
     "text": [
      "/tmp/ipykernel_2094456/982959091.py:7: DeprecationWarning: Importing display from IPython.core.display is deprecated since IPython 7.14, please import from IPython display\n",
      "  from IPython.core.display import Image, display\n",
      "[E rasterize_gl.cpp:121] OpenGL version reported as 4.6\n"
     ]
    },
    {
     "name": "stdout",
     "output_type": "stream",
     "text": [
      "Increasing frame buffer size to (width, height, depth) = (128, 128, 1024)\n"
     ]
    },
    {
     "ename": "ValueError",
     "evalue": "string is not a file: /nix/store/7xr0l6cm3rxh21kv3fhwqnb8fvzfvxc5-source/assets/objs/bunny.obj",
     "output_type": "error",
     "traceback": [
      "\u001b[0;31m---------------------------------------------------------------------------\u001b[0m",
      "\u001b[0;31mValueError\u001b[0m                                Traceback (most recent call last)",
      "Cell \u001b[0;32mIn[1], line 22\u001b[0m\n\u001b[1;32m     17\u001b[0m intrinsics \u001b[38;5;241m=\u001b[39m b\u001b[38;5;241m.\u001b[39mIntrinsics(\n\u001b[1;32m     18\u001b[0m     height\u001b[38;5;241m=\u001b[39m\u001b[38;5;241m100\u001b[39m, width\u001b[38;5;241m=\u001b[39m\u001b[38;5;241m100\u001b[39m, fx\u001b[38;5;241m=\u001b[39m\u001b[38;5;241m50.0\u001b[39m, fy\u001b[38;5;241m=\u001b[39m\u001b[38;5;241m50.0\u001b[39m, cx\u001b[38;5;241m=\u001b[39m\u001b[38;5;241m50.0\u001b[39m, cy\u001b[38;5;241m=\u001b[39m\u001b[38;5;241m50.0\u001b[39m, near\u001b[38;5;241m=\u001b[39m\u001b[38;5;241m0.001\u001b[39m, far\u001b[38;5;241m=\u001b[39m\u001b[38;5;241m6.0\u001b[39m\n\u001b[1;32m     19\u001b[0m )\n\u001b[1;32m     21\u001b[0m b\u001b[38;5;241m.\u001b[39msetup_renderer(intrinsics)\n\u001b[0;32m---> 22\u001b[0m \u001b[43mb\u001b[49m\u001b[38;5;241;43m.\u001b[39;49m\u001b[43mRENDERER\u001b[49m\u001b[38;5;241;43m.\u001b[39;49m\u001b[43madd_mesh_from_file\u001b[49m\u001b[43m(\u001b[49m\n\u001b[1;32m     23\u001b[0m \u001b[43m    \u001b[49m\u001b[43mos\u001b[49m\u001b[38;5;241;43m.\u001b[39;49m\u001b[43mpath\u001b[49m\u001b[38;5;241;43m.\u001b[39;49m\u001b[43mjoin\u001b[49m\u001b[43m(\u001b[49m\u001b[43massets_dir\u001b[49m\u001b[43m,\u001b[49m\u001b[43m \u001b[49m\u001b[38;5;124;43m\"\u001b[39;49m\u001b[38;5;124;43mobjs/bunny.obj\u001b[39;49m\u001b[38;5;124;43m\"\u001b[39;49m\u001b[43m)\u001b[49m\n\u001b[1;32m     24\u001b[0m \u001b[43m)\u001b[49m\n\u001b[1;32m     26\u001b[0m num_frames \u001b[38;5;241m=\u001b[39m \u001b[38;5;241m60\u001b[39m\n\u001b[1;32m     28\u001b[0m poses \u001b[38;5;241m=\u001b[39m [b\u001b[38;5;241m.\u001b[39mt3d\u001b[38;5;241m.\u001b[39mtransform_from_pos(jnp\u001b[38;5;241m.\u001b[39marray([\u001b[38;5;241m-\u001b[39m\u001b[38;5;241m3.0\u001b[39m, \u001b[38;5;241m0.0\u001b[39m, \u001b[38;5;241m3.5\u001b[39m]))]\n",
      "File \u001b[0;32m/nix/store/54ikcik4vc451qzsq7k8i5cx8xbjlrzz-python3-3.11.9-env/lib/python3.11/site-packages/bayes3d/renderer.py:104\u001b[0m, in \u001b[0;36mRenderer.add_mesh_from_file\u001b[0;34m(self, mesh_filename, mesh_name, scaling_factor, force, center_mesh)\u001b[0m\n\u001b[1;32m     87\u001b[0m \u001b[38;5;28;01mdef\u001b[39;00m \u001b[38;5;21madd_mesh_from_file\u001b[39m(\n\u001b[1;32m     88\u001b[0m     \u001b[38;5;28mself\u001b[39m,\n\u001b[1;32m     89\u001b[0m     mesh_filename,\n\u001b[0;32m   (...)\u001b[0m\n\u001b[1;32m     93\u001b[0m     center_mesh\u001b[38;5;241m=\u001b[39m\u001b[38;5;28;01mTrue\u001b[39;00m,\n\u001b[1;32m     94\u001b[0m ):\n\u001b[1;32m     95\u001b[0m \u001b[38;5;250m    \u001b[39m\u001b[38;5;124;03m\"\"\"Add a mesh to the renderer from a file.\u001b[39;00m\n\u001b[1;32m     96\u001b[0m \n\u001b[1;32m     97\u001b[0m \u001b[38;5;124;03m    Args:\u001b[39;00m\n\u001b[0;32m   (...)\u001b[0m\n\u001b[1;32m    102\u001b[0m \u001b[38;5;124;03m        center_mesh (bool, optional): Whether to center the mesh. Defaults to True.\u001b[39;00m\n\u001b[1;32m    103\u001b[0m \u001b[38;5;124;03m    \"\"\"\u001b[39;00m\n\u001b[0;32m--> 104\u001b[0m     mesh \u001b[38;5;241m=\u001b[39m \u001b[43mtrimesh\u001b[49m\u001b[38;5;241;43m.\u001b[39;49m\u001b[43mload\u001b[49m\u001b[43m(\u001b[49m\u001b[43mmesh_filename\u001b[49m\u001b[43m,\u001b[49m\u001b[43m \u001b[49m\u001b[43mforce\u001b[49m\u001b[38;5;241;43m=\u001b[39;49m\u001b[43mforce\u001b[49m\u001b[43m)\u001b[49m\n\u001b[1;32m    105\u001b[0m     \u001b[38;5;28mself\u001b[39m\u001b[38;5;241m.\u001b[39madd_mesh(\n\u001b[1;32m    106\u001b[0m         mesh,\n\u001b[1;32m    107\u001b[0m         mesh_name\u001b[38;5;241m=\u001b[39mmesh_name,\n\u001b[1;32m    108\u001b[0m         scaling_factor\u001b[38;5;241m=\u001b[39mscaling_factor,\n\u001b[1;32m    109\u001b[0m         center_mesh\u001b[38;5;241m=\u001b[39mcenter_mesh,\n\u001b[1;32m    110\u001b[0m     )\n",
      "File \u001b[0;32m/nix/store/54ikcik4vc451qzsq7k8i5cx8xbjlrzz-python3-3.11.9-env/lib/python3.11/site-packages/trimesh/exchange/load.py:114\u001b[0m, in \u001b[0;36mload\u001b[0;34m(file_obj, file_type, resolver, force, **kwargs)\u001b[0m\n\u001b[1;32m    105\u001b[0m     \u001b[38;5;28;01mreturn\u001b[39;00m file_obj\n\u001b[1;32m    107\u001b[0m \u001b[38;5;66;03m# parse the file arguments into clean loadable form\u001b[39;00m\n\u001b[1;32m    108\u001b[0m (\n\u001b[1;32m    109\u001b[0m     file_obj,  \u001b[38;5;66;03m# file- like object\u001b[39;00m\n\u001b[1;32m    110\u001b[0m     file_type,  \u001b[38;5;66;03m# str, what kind of file\u001b[39;00m\n\u001b[1;32m    111\u001b[0m     metadata,  \u001b[38;5;66;03m# dict, any metadata from file name\u001b[39;00m\n\u001b[1;32m    112\u001b[0m     opened,  \u001b[38;5;66;03m# bool, did we open the file ourselves\u001b[39;00m\n\u001b[1;32m    113\u001b[0m     resolver,  \u001b[38;5;66;03m# object to load referenced resources\u001b[39;00m\n\u001b[0;32m--> 114\u001b[0m ) \u001b[38;5;241m=\u001b[39m \u001b[43m_parse_file_args\u001b[49m\u001b[43m(\u001b[49m\u001b[43mfile_obj\u001b[49m\u001b[38;5;241;43m=\u001b[39;49m\u001b[43mfile_obj\u001b[49m\u001b[43m,\u001b[49m\u001b[43m \u001b[49m\u001b[43mfile_type\u001b[49m\u001b[38;5;241;43m=\u001b[39;49m\u001b[43mfile_type\u001b[49m\u001b[43m,\u001b[49m\u001b[43m \u001b[49m\u001b[43mresolver\u001b[49m\u001b[38;5;241;43m=\u001b[39;49m\u001b[43mresolver\u001b[49m\u001b[43m)\u001b[49m\n\u001b[1;32m    116\u001b[0m \u001b[38;5;28;01mtry\u001b[39;00m:\n\u001b[1;32m    117\u001b[0m     \u001b[38;5;28;01mif\u001b[39;00m \u001b[38;5;28misinstance\u001b[39m(file_obj, \u001b[38;5;28mdict\u001b[39m):\n\u001b[1;32m    118\u001b[0m         \u001b[38;5;66;03m# if we've been passed a dict treat it as kwargs\u001b[39;00m\n",
      "File \u001b[0;32m/nix/store/54ikcik4vc451qzsq7k8i5cx8xbjlrzz-python3-3.11.9-env/lib/python3.11/site-packages/trimesh/exchange/load.py:612\u001b[0m, in \u001b[0;36m_parse_file_args\u001b[0;34m(file_obj, file_type, resolver, **kwargs)\u001b[0m\n\u001b[1;32m    610\u001b[0m             \u001b[38;5;28;01mraise\u001b[39;00m \u001b[38;5;167;01mValueError\u001b[39;00m(\u001b[38;5;124mf\u001b[39m\u001b[38;5;124m\"\u001b[39m\u001b[38;5;124muse load_remote to load URL: \u001b[39m\u001b[38;5;132;01m{\u001b[39;00mfile_obj\u001b[38;5;132;01m}\u001b[39;00m\u001b[38;5;124m\"\u001b[39m)\n\u001b[1;32m    611\u001b[0m         \u001b[38;5;28;01melif\u001b[39;00m file_type \u001b[38;5;129;01mis\u001b[39;00m \u001b[38;5;28;01mNone\u001b[39;00m:\n\u001b[0;32m--> 612\u001b[0m             \u001b[38;5;28;01mraise\u001b[39;00m \u001b[38;5;167;01mValueError\u001b[39;00m(\u001b[38;5;124mf\u001b[39m\u001b[38;5;124m\"\u001b[39m\u001b[38;5;124mstring is not a file: \u001b[39m\u001b[38;5;132;01m{\u001b[39;00mfile_obj\u001b[38;5;132;01m}\u001b[39;00m\u001b[38;5;124m\"\u001b[39m)\n\u001b[1;32m    614\u001b[0m \u001b[38;5;28;01mif\u001b[39;00m file_type \u001b[38;5;129;01mis\u001b[39;00m \u001b[38;5;28;01mNone\u001b[39;00m:\n\u001b[1;32m    615\u001b[0m     file_type \u001b[38;5;241m=\u001b[39m file_obj\u001b[38;5;241m.\u001b[39m\u001b[38;5;18m__class__\u001b[39m\u001b[38;5;241m.\u001b[39m\u001b[38;5;18m__name__\u001b[39m\n",
      "\u001b[0;31mValueError\u001b[0m: string is not a file: /nix/store/7xr0l6cm3rxh21kv3fhwqnb8fvzfvxc5-source/assets/objs/bunny.obj"
     ]
    }
   ],
   "source": [
    "import os\n",
    "import time\n",
    "\n",
    "import jax\n",
    "import jax.numpy as jnp\n",
    "from IPython import embed\n",
    "from IPython.core.display import Image, display\n",
    "from scipy.spatial.transform import Rotation as R\n",
    "\n",
    "import bayes3d as b\n",
    "\n",
    "# Can be helpful for debugging:\n",
    "# jax.config.update('jax_enable_checks', True)\n",
    "\n",
    "assets_dir = os.getenv(\"B3D_ASSET_PATH\")\n",
    "\n",
    "intrinsics = b.Intrinsics(\n",
    "    height=100, width=100, fx=50.0, fy=50.0, cx=50.0, cy=50.0, near=0.001, far=6.0\n",
    ")\n",
    "\n",
    "b.setup_renderer(intrinsics)\n",
    "b.RENDERER.add_mesh_from_file(\n",
    "    os.path.join(assets_dir, \"objs/bunny.obj\")\n",
    ")\n",
    "\n",
    "num_frames = 60\n",
    "\n",
    "poses = [b.t3d.transform_from_pos(jnp.array([-3.0, 0.0, 3.5]))]\n",
    "delta_pose = b.t3d.transform_from_rot_and_pos(\n",
    "    R.from_euler(\"zyx\", [-1.0, 0.1, 2.0], degrees=True).as_matrix(),\n",
    "    jnp.array([0.09, 0.05, 0.02]),\n",
    ")\n",
    "for t in range(num_frames - 1):\n",
    "    poses.append(poses[-1].dot(delta_pose))\n",
    "poses = jnp.stack(poses)\n",
    "print(\"Number of frames: \", poses.shape[0])\n",
    "\n",
    "observed_images = b.RENDERER.render_many(poses[:, None, ...], jnp.array([0]))\n",
    "print(\"observed_images.shape\", observed_images.shape)\n",
    "\n",
    "translation_deltas = b.utils.make_translation_grid_enumeration(\n",
    "    -0.2, -0.2, -0.2, 0.2, 0.2, 0.2, 5, 5, 5\n",
    ")\n",
    "rotation_deltas = jax.vmap(\n",
    "    lambda key: b.distributions.gaussian_vmf_zero_mean(key, 0.00001, 800.0)\n",
    ")(jax.random.split(jax.random.PRNGKey(30), 100))\n",
    "\n",
    "likelihood = jax.vmap(\n",
    "    b.threedp3_likelihood_old, in_axes=(None, 0, None, None, None, None, None)\n",
    ")\n",
    "\n",
    "\n",
    "def update_pose_estimate(pose_estimate, gt_image):\n",
    "    proposals = jnp.einsum(\"ij,ajk->aik\", pose_estimate, translation_deltas)\n",
    "    rendered_images = jax.vmap(b.RENDERER.render, in_axes=(0, None))(\n",
    "        proposals[:, None, ...], jnp.array([0])\n",
    "    )\n",
    "    weights_new = likelihood(gt_image, rendered_images, 0.05, 0.1, 10**3, 0.1, 3)\n",
    "    pose_estimate = proposals[jnp.argmax(weights_new)]\n",
    "\n",
    "    proposals = jnp.einsum(\"ij,ajk->aik\", pose_estimate, rotation_deltas)\n",
    "    rendered_images = jax.vmap(b.RENDERER.render, in_axes=(0, None))(\n",
    "        proposals[:, None, ...], jnp.array([0])\n",
    "    )\n",
    "    weights_new = likelihood(gt_image, rendered_images, 0.05, 0.1, 10**3, 0.1, 3)\n",
    "    pose_estimate = proposals[jnp.argmax(weights_new)]\n",
    "    return pose_estimate, pose_estimate\n",
    "\n",
    "\n",
    "inference_program = jax.jit(lambda p, x: jax.lax.scan(update_pose_estimate, p, x)[1])\n",
    "inferred_poses = inference_program(poses[0], observed_images)\n",
    "\n",
    "start = time.time()\n",
    "pose_estimates_over_time = inference_program(poses[0], observed_images)\n",
    "end = time.time()\n",
    "print(\"Time elapsed:\", end - start)\n",
    "print(\"FPS:\", poses.shape[0] / (end - start))\n",
    "\n",
    "rerendered_images = b.RENDERER.render_many(\n",
    "    pose_estimates_over_time[:, None, ...], jnp.array([0])\n",
    ")\n",
    "\n",
    "viz_images = [\n",
    "    b.viz.multi_panel(\n",
    "        [\n",
    "            b.viz.scale_image(b.viz.get_depth_image(d[:, :, 2]), 3),\n",
    "            b.viz.scale_image(b.viz.get_depth_image(r[:, :, 2]), 3),\n",
    "        ],\n",
    "        labels=[\"Observed\", \"Rerendered\"],\n",
    "        label_fontsize=20,\n",
    "    )\n",
    "    for (r, d) in zip(rerendered_images, observed_images)\n",
    "]\n",
    "b.make_gif_from_pil_images(viz_images, \"assets/demo.gif\")\n",
    "\n"
   ]
  },
  {
   "cell_type": "code",
   "execution_count": 2,
   "id": "c39a88e9-b18d-4d91-b001-f2a3abdd6804",
   "metadata": {},
   "outputs": [
    {
     "data": {
      "text/html": [
       "<img src=\"assets/demo.gif\"/>"
      ],
      "text/plain": [
       "<IPython.core.display.Image object>"
      ]
     },
     "metadata": {},
     "output_type": "display_data"
    }
   ],
   "source": [
    "display(Image(url=\"assets/demo.gif\"))"
   ]
  },
  {
   "cell_type": "code",
   "execution_count": null,
   "id": "f0dfe9f8-393c-49bd-975d-7cc8c55e3771",
   "metadata": {},
   "outputs": [],
   "source": []
  }
 ],
 "metadata": {
  "kernelspec": {
   "display_name": "Python 3 (ipykernel)",
   "language": "python",
   "name": "python3"
  },
  "language_info": {
   "codemirror_mode": {
    "name": "ipython",
    "version": 3
   },
   "file_extension": ".py",
   "mimetype": "text/x-python",
   "name": "python",
   "nbconvert_exporter": "python",
   "pygments_lexer": "ipython3",
   "version": "3.11.9"
  }
 },
 "nbformat": 4,
 "nbformat_minor": 5
}
