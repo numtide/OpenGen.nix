{
 "cells": [
  {
   "cell_type": "code",
   "execution_count": 1,
   "id": "fc70511d-4bf5-47cb-9935-c17b4da6cf11",
   "metadata": {
    "scrolled": true
   },
   "outputs": [
    {
     "name": "stderr",
     "output_type": "stream",
     "text": [
      "/tmp/nix-shell.m77vOf/ipykernel_15044/268569837.py:7: DeprecationWarning: Importing display from IPython.core.display is deprecated since IPython 7.14, please import from IPython display\n",
      "  from IPython.core.display import Image, display\n",
      "[E rasterize_gl.cpp:121] OpenGL version reported as 4.6\n"
     ]
    },
    {
     "name": "stdout",
     "output_type": "stream",
     "text": [
      "Increasing frame buffer size to (width, height, depth) = (128, 128, 1024)\n",
      "Centering mesh with translation [0.0000000e+00 2.9802322e-08 0.0000000e+00]\n",
      "Number of frames:  60\n",
      "observed_images.shape (60, 100, 100, 4)\n"
     ]
    },
    {
     "name": "stderr",
     "output_type": "stream",
     "text": [
      "2024-07-29 10:27:17.298628: W tensorflow/compiler/tf2tensorrt/utils/py_utils.cc:38] TF-TRT Warning: Could not find TensorRT\n"
     ]
    },
    {
     "name": "stdout",
     "output_type": "stream",
     "text": [
      "Time elapsed: 1.261814832687378\n",
      "FPS: 47.55055848583875\n"
     ]
    }
   ],
   "source": [
    "import os\n",
    "import time\n",
    "\n",
    "import jax\n",
    "import jax.numpy as jnp\n",
    "from IPython import embed\n",
    "from IPython.core.display import Image, display\n",
    "from scipy.spatial.transform import Rotation as R\n",
    "\n",
    "import bayes3d as b\n",
    "\n",
    "# Can be helpful for debugging:\n",
    "# jax.config.update('jax_enable_checks', True)\n",
    "\n",
    "assets_dir = os.getenv(\"B3D_ASSET_PATH\")\n",
    "\n",
    "intrinsics = b.Intrinsics(\n",
    "    height=100, width=100, fx=50.0, fy=50.0, cx=50.0, cy=50.0, near=0.001, far=6.0\n",
    ")\n",
    "\n",
    "b.setup_renderer(intrinsics)\n",
    "b.RENDERER.add_mesh_from_file(\n",
    "    os.path.join(assets_dir, \"sample_objs/bunny.obj\")\n",
    ")\n",
    "\n",
    "num_frames = 60\n",
    "\n",
    "poses = [b.t3d.transform_from_pos(jnp.array([-3.0, 0.0, 3.5]))]\n",
    "delta_pose = b.t3d.transform_from_rot_and_pos(\n",
    "    R.from_euler(\"zyx\", [-1.0, 0.1, 2.0], degrees=True).as_matrix(),\n",
    "    jnp.array([0.09, 0.05, 0.02]),\n",
    ")\n",
    "for t in range(num_frames - 1):\n",
    "    poses.append(poses[-1].dot(delta_pose))\n",
    "poses = jnp.stack(poses)\n",
    "print(\"Number of frames: \", poses.shape[0])\n",
    "\n",
    "observed_images = b.RENDERER.render_many(poses[:, None, ...], jnp.array([0]))\n",
    "print(\"observed_images.shape\", observed_images.shape)\n",
    "\n",
    "translation_deltas = b.utils.make_translation_grid_enumeration(\n",
    "    -0.2, -0.2, -0.2, 0.2, 0.2, 0.2, 5, 5, 5\n",
    ")\n",
    "rotation_deltas = jax.vmap(\n",
    "    lambda key: b.distributions.gaussian_vmf_zero_mean(key, 0.00001, 800.0)\n",
    ")(jax.random.split(jax.random.PRNGKey(30), 100))\n",
    "\n",
    "likelihood = jax.vmap(\n",
    "    b.threedp3_likelihood_old, in_axes=(None, 0, None, None, None, None, None)\n",
    ")\n",
    "\n",
    "\n",
    "def update_pose_estimate(pose_estimate, gt_image):\n",
    "    proposals = jnp.einsum(\"ij,ajk->aik\", pose_estimate, translation_deltas)\n",
    "    rendered_images = jax.vmap(b.RENDERER.render, in_axes=(0, None))(\n",
    "        proposals[:, None, ...], jnp.array([0])\n",
    "    )\n",
    "    weights_new = likelihood(gt_image, rendered_images, 0.05, 0.1, 10**3, 0.1, 3)\n",
    "    pose_estimate = proposals[jnp.argmax(weights_new)]\n",
    "\n",
    "    proposals = jnp.einsum(\"ij,ajk->aik\", pose_estimate, rotation_deltas)\n",
    "    rendered_images = jax.vmap(b.RENDERER.render, in_axes=(0, None))(\n",
    "        proposals[:, None, ...], jnp.array([0])\n",
    "    )\n",
    "    weights_new = likelihood(gt_image, rendered_images, 0.05, 0.1, 10**3, 0.1, 3)\n",
    "    pose_estimate = proposals[jnp.argmax(weights_new)]\n",
    "    return pose_estimate, pose_estimate\n",
    "\n",
    "\n",
    "inference_program = jax.jit(lambda p, x: jax.lax.scan(update_pose_estimate, p, x)[1])\n",
    "inferred_poses = inference_program(poses[0], observed_images)\n",
    "\n",
    "start = time.time()\n",
    "pose_estimates_over_time = inference_program(poses[0], observed_images)\n",
    "end = time.time()\n",
    "print(\"Time elapsed:\", end - start)\n",
    "print(\"FPS:\", poses.shape[0] / (end - start))\n",
    "\n",
    "rerendered_images = b.RENDERER.render_many(\n",
    "    pose_estimates_over_time[:, None, ...], jnp.array([0])\n",
    ")\n",
    "\n",
    "viz_images = [\n",
    "    b.viz.multi_panel(\n",
    "        [\n",
    "            b.viz.scale_image(b.viz.get_depth_image(d[:, :, 2]), 3),\n",
    "            b.viz.scale_image(b.viz.get_depth_image(r[:, :, 2]), 3),\n",
    "        ],\n",
    "        labels=[\"Observed\", \"Rerendered\"],\n",
    "        label_fontsize=20,\n",
    "    )\n",
    "    for (r, d) in zip(rerendered_images, observed_images)\n",
    "]\n",
    "b.make_gif_from_pil_images(viz_images, \"assets/demo.gif\")\n",
    "\n"
   ]
  },
  {
   "cell_type": "code",
   "execution_count": 2,
   "id": "c39a88e9-b18d-4d91-b001-f2a3abdd6804",
   "metadata": {},
   "outputs": [
    {
     "data": {
      "text/html": [
       "<img src=\"assets/demo.gif\"/>"
      ],
      "text/plain": [
       "<IPython.core.display.Image object>"
      ]
     },
     "metadata": {},
     "output_type": "display_data"
    }
   ],
   "source": [
    "display(Image(url=\"assets/demo.gif\"))"
   ]
  },
  {
   "cell_type": "code",
   "execution_count": null,
   "id": "a450ad59-1f75-4e1d-b150-fa62e47ba345",
   "metadata": {},
   "outputs": [],
   "source": []
  }
 ],
 "metadata": {
  "kernelspec": {
   "display_name": "Python 3 (ipykernel)",
   "language": "python",
   "name": "python3"
  },
  "language_info": {
   "codemirror_mode": {
    "name": "ipython",
    "version": 3
   },
   "file_extension": ".py",
   "mimetype": "text/x-python",
   "name": "python",
   "nbconvert_exporter": "python",
   "pygments_lexer": "ipython3",
   "version": "3.11.9"
  }
 },
 "nbformat": 4,
 "nbformat_minor": 5
}
